{
  "nbformat": 4,
  "nbformat_minor": 0,
  "metadata": {
    "colab": {
      "provenance": []
    },
    "kernelspec": {
      "name": "python3",
      "display_name": "Python 3"
    },
    "language_info": {
      "name": "python"
    }
  },
  "cells": [
    {
      "cell_type": "code",
      "source": [
        "!pip install pyspark"
      ],
      "metadata": {
        "colab": {
          "base_uri": "https://localhost:8080/"
        },
        "id": "zcKO63kYGb0B",
        "outputId": "e8c13678-2111-4efd-f5e9-f228b5c393f8"
      },
      "execution_count": 6,
      "outputs": [
        {
          "output_type": "stream",
          "name": "stdout",
          "text": [
            "Collecting pyspark\n",
            "  Downloading pyspark-3.5.1.tar.gz (317.0 MB)\n",
            "\u001b[2K     \u001b[90m━━━━━━━━━━━━━━━━━━━━━━━━━━━━━━━━━━━━━━━━\u001b[0m \u001b[32m317.0/317.0 MB\u001b[0m \u001b[31m2.6 MB/s\u001b[0m eta \u001b[36m0:00:00\u001b[0m\n",
            "\u001b[?25h  Preparing metadata (setup.py) ... \u001b[?25l\u001b[?25hdone\n",
            "Requirement already satisfied: py4j==0.10.9.7 in /usr/local/lib/python3.10/dist-packages (from pyspark) (0.10.9.7)\n",
            "Building wheels for collected packages: pyspark\n",
            "  Building wheel for pyspark (setup.py) ... \u001b[?25l\u001b[?25hdone\n",
            "  Created wheel for pyspark: filename=pyspark-3.5.1-py2.py3-none-any.whl size=317488491 sha256=d9f144f34d7e1cc234daafd60bd2a9ec1fb6de38866de86dbd645c9b3e6f04be\n",
            "  Stored in directory: /root/.cache/pip/wheels/80/1d/60/2c256ed38dddce2fdd93be545214a63e02fbd8d74fb0b7f3a6\n",
            "Successfully built pyspark\n",
            "Installing collected packages: pyspark\n",
            "Successfully installed pyspark-3.5.1\n"
          ]
        }
      ]
    },
    {
      "cell_type": "code",
      "source": [
        "from pyspark.sql import SparkSession"
      ],
      "metadata": {
        "id": "q3G3476PG1TM"
      },
      "execution_count": 7,
      "outputs": []
    },
    {
      "cell_type": "code",
      "source": [
        "from pyspark.ml.feature import HashingTF, IDF, Tokenizer, StopWordsRemover\n"
      ],
      "metadata": {
        "id": "5fltLCq1G9II"
      },
      "execution_count": 45,
      "outputs": []
    },
    {
      "cell_type": "code",
      "source": [
        "from pyspark.ml import Pipeline"
      ],
      "metadata": {
        "id": "uIKahn_ZL8ZU"
      },
      "execution_count": 46,
      "outputs": []
    },
    {
      "cell_type": "code",
      "source": [
        "spark = SparkSession.builder.appName(\"TF-IDF Example\").getOrCreate()"
      ],
      "metadata": {
        "id": "_bVOcxPGHDYu"
      },
      "execution_count": 47,
      "outputs": []
    },
    {
      "cell_type": "code",
      "source": [
        "# Load the dataset\n",
        "df = spark.read.csv(\"fb_sentiment.csv\", header=True, inferSchema=True)"
      ],
      "metadata": {
        "id": "v4DHsNSxHLkQ"
      },
      "execution_count": 116,
      "outputs": []
    },
    {
      "cell_type": "code",
      "source": [
        "df.show()"
      ],
      "metadata": {
        "colab": {
          "base_uri": "https://localhost:8080/"
        },
        "id": "sOSvlA6uHX7S",
        "outputId": "696d76c5-9e02-461f-91a1-5782cec59ca0"
      },
      "execution_count": 117,
      "outputs": [
        {
          "output_type": "stream",
          "name": "stdout",
          "text": [
            "+---+--------------------+--------------------+\n",
            "|_c0|              FBPost|               Label|\n",
            "+---+--------------------+--------------------+\n",
            "|  0|Drug Runners and ...|                   O|\n",
            "|  1|\"Heres a single, ...| from Mackinac Is...|\n",
            "|  2|If you tire of No...|                   O|\n",
            "|  3|Ghost of Round Is...|                   O|\n",
            "|  4|Why is Barnes and...|                   N|\n",
            "|  5|@Maria:  Do you m...|                   P|\n",
            "|  6|kindle is awesome...|                   P|\n",
            "|  7|     I love mine!!!!|                   P|\n",
            "|  8|Meh. I think Sing...|                   N|\n",
            "|  9|My daugjhter love...|                   P|\n",
            "| 10|I am not sure if ...|                   N|\n",
            "| 11|Got a Kindle for ...|                   P|\n",
            "| 12|I dont have the p...|                   P|\n",
            "| 13|Love the new sing...|                   P|\n",
            "| 14|Not a fan of Kind...|                   N|\n",
            "| 15|Best thing since ...|                   P|\n",
            "| 16|we love our kindl...|                   P|\n",
            "| 17|can anybody tell ...|                   P|\n",
            "| 18|Love  my kindle, ...|                   P|\n",
            "| 19|Yeah once u get a...|                   P|\n",
            "+---+--------------------+--------------------+\n",
            "only showing top 20 rows\n",
            "\n"
          ]
        }
      ]
    },
    {
      "cell_type": "code",
      "source": [
        "#Dropping Null Values\n",
        "df = df.dropna(subset=[\"FBPost\"])"
      ],
      "metadata": {
        "id": "cK0Z7lp4O3oQ"
      },
      "execution_count": 118,
      "outputs": []
    },
    {
      "cell_type": "code",
      "source": [
        "# Tokenize the text data\n",
        "tokenizer = Tokenizer(inputCol=\"FBPost\", outputCol=\"words\")\n",
        "df_tokenized = tokenizer.transform(df)"
      ],
      "metadata": {
        "id": "zqzLxgOgHgmA"
      },
      "execution_count": 119,
      "outputs": []
    },
    {
      "cell_type": "code",
      "source": [
        "df_tokenized.show()"
      ],
      "metadata": {
        "colab": {
          "base_uri": "https://localhost:8080/"
        },
        "id": "Jo635IfhIgmE",
        "outputId": "d83ecaef-6c43-4fb4-e669-26ff5214ad91"
      },
      "execution_count": 120,
      "outputs": [
        {
          "output_type": "stream",
          "name": "stdout",
          "text": [
            "+---+--------------------+--------------------+--------------------+\n",
            "|_c0|              FBPost|               Label|               words|\n",
            "+---+--------------------+--------------------+--------------------+\n",
            "|  0|Drug Runners and ...|                   O|[drug, runners, a...|\n",
            "|  1|\"Heres a single, ...| from Mackinac Is...|[\"heres, a, singl...|\n",
            "|  2|If you tire of No...|                   O|[if, you, tire, o...|\n",
            "|  3|Ghost of Round Is...|                   O|[ghost, of, round...|\n",
            "|  4|Why is Barnes and...|                   N|[why, is, barnes,...|\n",
            "|  5|@Maria:  Do you m...|                   P|[@maria:, , do, y...|\n",
            "|  6|kindle is awesome...|                   P|[kindle, is, awes...|\n",
            "|  7|     I love mine!!!!|                   P| [i, love, mine!!!!]|\n",
            "|  8|Meh. I think Sing...|                   N|[meh., i, think, ...|\n",
            "|  9|My daugjhter love...|                   P|[my, daugjhter, l...|\n",
            "| 10|I am not sure if ...|                   N|[i, am, not, sure...|\n",
            "| 11|Got a Kindle for ...|                   P|[got, a, kindle, ...|\n",
            "| 12|I dont have the p...|                   P|[i, dont, have, t...|\n",
            "| 13|Love the new sing...|                   P|[love, the, new, ...|\n",
            "| 14|Not a fan of Kind...|                   N|[not, a, fan, of,...|\n",
            "| 15|Best thing since ...|                   P|[best, thing, sin...|\n",
            "| 16|we love our kindl...|                   P|[we, love, our, k...|\n",
            "| 17|can anybody tell ...|                   P|[can, anybody, te...|\n",
            "| 18|Love  my kindle, ...|                   P|[love, , my, kind...|\n",
            "| 19|Yeah once u get a...|                   P|[yeah, once, u, g...|\n",
            "+---+--------------------+--------------------+--------------------+\n",
            "only showing top 20 rows\n",
            "\n"
          ]
        }
      ]
    },
    {
      "cell_type": "code",
      "source": [
        "#Dropping Label Columns\n",
        "df_tokenized = df_tokenized.drop('Label')"
      ],
      "metadata": {
        "id": "37JB5AQbIlU_"
      },
      "execution_count": 121,
      "outputs": []
    },
    {
      "cell_type": "code",
      "source": [
        "df_tokenized.show()"
      ],
      "metadata": {
        "colab": {
          "base_uri": "https://localhost:8080/"
        },
        "id": "bO0DVEKwIwjm",
        "outputId": "d9143bd6-51fa-4640-f1f5-91ff212288e5"
      },
      "execution_count": 122,
      "outputs": [
        {
          "output_type": "stream",
          "name": "stdout",
          "text": [
            "+---+--------------------+--------------------+\n",
            "|_c0|              FBPost|               words|\n",
            "+---+--------------------+--------------------+\n",
            "|  0|Drug Runners and ...|[drug, runners, a...|\n",
            "|  1|\"Heres a single, ...|[\"heres, a, singl...|\n",
            "|  2|If you tire of No...|[if, you, tire, o...|\n",
            "|  3|Ghost of Round Is...|[ghost, of, round...|\n",
            "|  4|Why is Barnes and...|[why, is, barnes,...|\n",
            "|  5|@Maria:  Do you m...|[@maria:, , do, y...|\n",
            "|  6|kindle is awesome...|[kindle, is, awes...|\n",
            "|  7|     I love mine!!!!| [i, love, mine!!!!]|\n",
            "|  8|Meh. I think Sing...|[meh., i, think, ...|\n",
            "|  9|My daugjhter love...|[my, daugjhter, l...|\n",
            "| 10|I am not sure if ...|[i, am, not, sure...|\n",
            "| 11|Got a Kindle for ...|[got, a, kindle, ...|\n",
            "| 12|I dont have the p...|[i, dont, have, t...|\n",
            "| 13|Love the new sing...|[love, the, new, ...|\n",
            "| 14|Not a fan of Kind...|[not, a, fan, of,...|\n",
            "| 15|Best thing since ...|[best, thing, sin...|\n",
            "| 16|we love our kindl...|[we, love, our, k...|\n",
            "| 17|can anybody tell ...|[can, anybody, te...|\n",
            "| 18|Love  my kindle, ...|[love, , my, kind...|\n",
            "| 19|Yeah once u get a...|[yeah, once, u, g...|\n",
            "+---+--------------------+--------------------+\n",
            "only showing top 20 rows\n",
            "\n"
          ]
        }
      ]
    },
    {
      "cell_type": "code",
      "source": [
        "#Renaming _c0 column with PostID\n",
        "df_tokenized = df_tokenized.withColumnRenamed(\"_c0\", 'PostID')"
      ],
      "metadata": {
        "id": "D5OMWOp7PsbX"
      },
      "execution_count": 123,
      "outputs": []
    },
    {
      "cell_type": "code",
      "source": [
        "df_tokenized.show()"
      ],
      "metadata": {
        "colab": {
          "base_uri": "https://localhost:8080/"
        },
        "id": "xa67SkT_QAUD",
        "outputId": "b37c4085-0b51-4b4e-edf1-03b683a1ce8d"
      },
      "execution_count": 124,
      "outputs": [
        {
          "output_type": "stream",
          "name": "stdout",
          "text": [
            "+------+--------------------+--------------------+\n",
            "|PostID|              FBPost|               words|\n",
            "+------+--------------------+--------------------+\n",
            "|     0|Drug Runners and ...|[drug, runners, a...|\n",
            "|     1|\"Heres a single, ...|[\"heres, a, singl...|\n",
            "|     2|If you tire of No...|[if, you, tire, o...|\n",
            "|     3|Ghost of Round Is...|[ghost, of, round...|\n",
            "|     4|Why is Barnes and...|[why, is, barnes,...|\n",
            "|     5|@Maria:  Do you m...|[@maria:, , do, y...|\n",
            "|     6|kindle is awesome...|[kindle, is, awes...|\n",
            "|     7|     I love mine!!!!| [i, love, mine!!!!]|\n",
            "|     8|Meh. I think Sing...|[meh., i, think, ...|\n",
            "|     9|My daugjhter love...|[my, daugjhter, l...|\n",
            "|    10|I am not sure if ...|[i, am, not, sure...|\n",
            "|    11|Got a Kindle for ...|[got, a, kindle, ...|\n",
            "|    12|I dont have the p...|[i, dont, have, t...|\n",
            "|    13|Love the new sing...|[love, the, new, ...|\n",
            "|    14|Not a fan of Kind...|[not, a, fan, of,...|\n",
            "|    15|Best thing since ...|[best, thing, sin...|\n",
            "|    16|we love our kindl...|[we, love, our, k...|\n",
            "|    17|can anybody tell ...|[can, anybody, te...|\n",
            "|    18|Love  my kindle, ...|[love, , my, kind...|\n",
            "|    19|Yeah once u get a...|[yeah, once, u, g...|\n",
            "+------+--------------------+--------------------+\n",
            "only showing top 20 rows\n",
            "\n"
          ]
        }
      ]
    },
    {
      "cell_type": "code",
      "source": [
        "remover = StopWordsRemover(inputCol=\"words\", outputCol=\"filtered_words\")\n",
        "df_filtered = remover.transform(df_tokenized)\n"
      ],
      "metadata": {
        "id": "4O-1iG18IVF5"
      },
      "execution_count": 125,
      "outputs": []
    },
    {
      "cell_type": "code",
      "source": [
        "df_filtered.show()"
      ],
      "metadata": {
        "colab": {
          "base_uri": "https://localhost:8080/"
        },
        "id": "YhiDIc-7JDF8",
        "outputId": "43ea8d27-f05e-49c7-c6f7-27bd6755c56d"
      },
      "execution_count": 126,
      "outputs": [
        {
          "output_type": "stream",
          "name": "stdout",
          "text": [
            "+------+--------------------+--------------------+--------------------+\n",
            "|PostID|              FBPost|               words|      filtered_words|\n",
            "+------+--------------------+--------------------+--------------------+\n",
            "|     0|Drug Runners and ...|[drug, runners, a...|[drug, runners, ,...|\n",
            "|     1|\"Heres a single, ...|[\"heres, a, singl...|[\"heres, single,,...|\n",
            "|     2|If you tire of No...|[if, you, tire, o...|[tire, non-fictio...|\n",
            "|     3|Ghost of Round Is...|[ghost, of, round...|[ghost, round, is...|\n",
            "|     4|Why is Barnes and...|[why, is, barnes,...|[barnes, nobles, ...|\n",
            "|     5|@Maria:  Do you m...|[@maria:, , do, y...|[@maria:, , mean,...|\n",
            "|     6|kindle is awesome...|[kindle, is, awes...|[kindle, awesome!...|\n",
            "|     7|     I love mine!!!!| [i, love, mine!!!!]|    [love, mine!!!!]|\n",
            "|     8|Meh. I think Sing...|[meh., i, think, ...|[meh., think, sin...|\n",
            "|     9|My daugjhter love...|[my, daugjhter, l...|[daugjhter, loves...|\n",
            "|    10|I am not sure if ...|[i, am, not, sure...|[sure, got, updat...|\n",
            "|    11|Got a Kindle for ...|[got, a, kindle, ...|[got, kindle, xma...|\n",
            "|    12|I dont have the p...|[i, dont, have, t...|[dont, patience, ...|\n",
            "|    13|Love the new sing...|[love, the, new, ...|[love, new, singl...|\n",
            "|    14|Not a fan of Kind...|[not, a, fan, of,...|[fan, kindle, sin...|\n",
            "|    15|Best thing since ...|[best, thing, sin...|[best, thing, sin...|\n",
            "|    16|we love our kindl...|[we, love, our, k...|[love, kindles......|\n",
            "|    17|can anybody tell ...|[can, anybody, te...|[anybody, tell, f...|\n",
            "|    18|Love  my kindle, ...|[love, , my, kind...|[love, , kindle,,...|\n",
            "|    19|Yeah once u get a...|[yeah, once, u, g...|[yeah, u, get, ki...|\n",
            "+------+--------------------+--------------------+--------------------+\n",
            "only showing top 20 rows\n",
            "\n"
          ]
        }
      ]
    },
    {
      "cell_type": "code",
      "source": [
        "from pyspark.sql.functions import explode, col"
      ],
      "metadata": {
        "id": "BrT2j7h1fS4o"
      },
      "execution_count": 128,
      "outputs": []
    },
    {
      "cell_type": "code",
      "source": [
        "df_exploded = df_filtered.select(explode(\"filtered_words\").alias(\"word\"))\n",
        "\n",
        "# Count the distinct words\n",
        "num_unique_words = df_exploded.select(\"word\").distinct().count()\n",
        "\n",
        "# Print the number of unique words\n",
        "print(\"Number of unique words in the dataset:\", num_unique_words)"
      ],
      "metadata": {
        "colab": {
          "base_uri": "https://localhost:8080/"
        },
        "id": "nqdshaTKfCDz",
        "outputId": "08c58177-51d9-43e5-8873-503b9da830ea"
      },
      "execution_count": 157,
      "outputs": [
        {
          "output_type": "stream",
          "name": "stdout",
          "text": [
            "Number of unique words in the dataset: 4063\n"
          ]
        }
      ]
    },
    {
      "cell_type": "code",
      "source": [
        "hashingTF = HashingTF(inputCol=\"filtered_words\", outputCol=\"rawFeatures\", numFeatures=8400)\n",
        "df_tf = hashingTF.transform(df_filtered)"
      ],
      "metadata": {
        "id": "AWHeqy5EM4qw"
      },
      "execution_count": 158,
      "outputs": []
    },
    {
      "cell_type": "code",
      "source": [
        "idf = IDF(inputCol=\"rawFeatures\", outputCol=\"tfidf_features\")\n",
        "idfModel = idf.fit(df_tf)\n",
        "df_tfidf = idfModel.transform(df_tf)"
      ],
      "metadata": {
        "id": "N9Os4L83M4zc"
      },
      "execution_count": 131,
      "outputs": []
    },
    {
      "cell_type": "code",
      "source": [
        "df_tfidf.show()"
      ],
      "metadata": {
        "colab": {
          "base_uri": "https://localhost:8080/"
        },
        "id": "J1i6fRhoQKfq",
        "outputId": "66f646ae-2cb4-49f3-9cd7-ea310f7efc26"
      },
      "execution_count": 159,
      "outputs": [
        {
          "output_type": "stream",
          "name": "stdout",
          "text": [
            "+------+--------------------+--------------------+--------------------+--------------------+--------------------+\n",
            "|PostID|              FBPost|               words|      filtered_words|         rawFeatures|      tfidf_features|\n",
            "+------+--------------------+--------------------+--------------------+--------------------+--------------------+\n",
            "|     0|Drug Runners and ...|[drug, runners, a...|[drug, runners, ,...|(8400,[260,1253,2...|(8400,[260,1253,2...|\n",
            "|     1|\"Heres a single, ...|[\"heres, a, singl...|[\"heres, single,,...|(8400,[287,674,13...|(8400,[287,674,13...|\n",
            "|     2|If you tire of No...|[if, you, tire, o...|[tire, non-fictio...|(8400,[1749,2025,...|(8400,[1749,2025,...|\n",
            "|     3|Ghost of Round Is...|[ghost, of, round...|[ghost, round, is...|(8400,[287,1476,1...|(8400,[287,1476,1...|\n",
            "|     4|Why is Barnes and...|[why, is, barnes,...|[barnes, nobles, ...|(8400,[357,1130,4...|(8400,[357,1130,4...|\n",
            "|     5|@Maria:  Do you m...|[@maria:, , do, y...|[@maria:, , mean,...|(8400,[183,357,95...|(8400,[183,357,95...|\n",
            "|     6|kindle is awesome...|[kindle, is, awes...|[kindle, awesome!...|(8400,[357,4350,5...|(8400,[357,4350,5...|\n",
            "|     7|     I love mine!!!!| [i, love, mine!!!!]|    [love, mine!!!!]|(8400,[2240,4481]...|(8400,[2240,4481]...|\n",
            "|     8|Meh. I think Sing...|[meh., i, think, ...|[meh., think, sin...|(8400,[15,22,248,...|(8400,[15,22,248,...|\n",
            "|     9|My daugjhter love...|[my, daugjhter, l...|[daugjhter, loves...|(8400,[1126,6486,...|(8400,[1126,6486,...|\n",
            "|    10|I am not sure if ...|[i, am, not, sure...|[sure, got, updat...|(8400,[634,1192,1...|(8400,[634,1192,1...|\n",
            "|    11|Got a Kindle for ...|[got, a, kindle, ...|[got, kindle, xma...|(8400,[357,2029,2...|(8400,[357,2029,2...|\n",
            "|    12|I dont have the p...|[i, dont, have, t...|[dont, patience, ...|(8400,[357,2023,2...|(8400,[357,2023,2...|\n",
            "|    13|Love the new sing...|[love, the, new, ...|[love, new, singl...|(8400,[18,2240,23...|(8400,[18,2240,23...|\n",
            "|    14|Not a fan of Kind...|[not, a, fan, of,...|[fan, kindle, sin...|(8400,[357,2793,3...|(8400,[357,2793,3...|\n",
            "|    15|Best thing since ...|[best, thing, sin...|[best, thing, sin...|(8400,[657,1563,3...|(8400,[657,1563,3...|\n",
            "|    16|we love our kindl...|[we, love, our, k...|[love, kindles......|(8400,[2240,6483]...|(8400,[2240,6483]...|\n",
            "|    17|can anybody tell ...|[can, anybody, te...|[anybody, tell, f...|(8400,[117,248,35...|(8400,[117,248,35...|\n",
            "|    18|Love  my kindle, ...|[love, , my, kind...|[love, , kindle,,...|(8400,[357,602,19...|(8400,[357,602,19...|\n",
            "|    19|Yeah once u get a...|[yeah, once, u, g...|[yeah, u, get, ki...|(8400,[183,357,84...|(8400,[183,357,84...|\n",
            "+------+--------------------+--------------------+--------------------+--------------------+--------------------+\n",
            "only showing top 20 rows\n",
            "\n"
          ]
        }
      ]
    },
    {
      "cell_type": "code",
      "source": [
        "# Increase maximum column width and row count to display\n",
        "spark.conf.set(\"spark.sql.repl.eagerEval.maxNumRows\", 200)\n",
        "spark.conf.set(\"spark.sql.repl.eagerEval.maxNumColumns\", 200)\n",
        "\n",
        "# Show the DataFrame with all content\n",
        "df_tfidf.show(truncate=False)"
      ],
      "metadata": {
        "colab": {
          "base_uri": "https://localhost:8080/"
        },
        "id": "6aAZ35zRQKkB",
        "outputId": "efed1675-ce65-4a62-be46-225108b81ad6"
      },
      "execution_count": 160,
      "outputs": [
        {
          "output_type": "stream",
          "name": "stdout",
          "text": [
            "+------+---------------------------------------------------------------------------------------------------------------------------------------------------------------------------------------------------------------------------------------------------------------+----------------------------------------------------------------------------------------------------------------------------------------------------------------------------------------------------------------------------------------------------------------------------------------------------------------------+------------------------------------------------------------------------------------------------------------------------------------------------------------------------------------------------------------------------+----------------------------------------------------------------------------------------------------------------------------------------------------------------------------------------------------------------------+------------------------------------------------------------------------------------------------------------------------------------------------------------------------------------------------------------------------------------------------------------------------------------------------------------------------------------------------------------------------------------------------------------------------------------------------------------------------------------------------------------------------------------------------------------------+\n",
            "|PostID|FBPost                                                                                                                                                                                                                                                         |words                                                                                                                                                                                                                                                                                                                 |filtered_words                                                                                                                                                                                                          |rawFeatures                                                                                                                                                                                                           |tfidf_features                                                                                                                                                                                                                                                                                                                                                                                                                                                                                                                                                    |\n",
            "+------+---------------------------------------------------------------------------------------------------------------------------------------------------------------------------------------------------------------------------------------------------------------+----------------------------------------------------------------------------------------------------------------------------------------------------------------------------------------------------------------------------------------------------------------------------------------------------------------------+------------------------------------------------------------------------------------------------------------------------------------------------------------------------------------------------------------------------+----------------------------------------------------------------------------------------------------------------------------------------------------------------------------------------------------------------------+------------------------------------------------------------------------------------------------------------------------------------------------------------------------------------------------------------------------------------------------------------------------------------------------------------------------------------------------------------------------------------------------------------------------------------------------------------------------------------------------------------------------------------------------------------------+\n",
            "|0     |Drug Runners and  a U.S. Senator have something to do with the Murder http://www.amazon.com/Circumstantial-Evidence-Getting-Florida-Bozarth-ebook/dp/B004FPZ452/ref=pd_rhf_p_t_1 The State Attorney Knows... NOW So Will You. GET Ypur Copy TODAY              |[drug, runners, and, , a, u.s., senator, have, something, to, do, with, the, murder, http://www.amazon.com/circumstantial-evidence-getting-florida-bozarth-ebook/dp/b004fpz452/ref=pd_rhf_p_t_1, the, state, attorney, knows..., now, so, will, you., get, ypur, copy, today]                                         |[drug, runners, , u.s., senator, something, murder, http://www.amazon.com/circumstantial-evidence-getting-florida-bozarth-ebook/dp/b004fpz452/ref=pd_rhf_p_t_1, state, attorney, knows..., you., get, ypur, copy, today]|(8400,[260,1253,2543,2875,3287,3372,4968,5006,5008,5216,5826,6021,6218,6804,7231,8226],[1.0,1.0,1.0,1.0,1.0,1.0,1.0,1.0,1.0,1.0,1.0,1.0,1.0,1.0,1.0,1.0])                                                             |(8400,[260,1253,2543,2875,3287,3372,4968,5006,5008,5216,5826,6021,6218,6804,7231,8226],[5.520460417528663,5.808142489980444,6.2136075980886085,5.808142489980444,5.808142489980444,1.4054965681038265,5.808142489980444,4.9608446295932405,5.297316866214453,4.827313236968718,4.134166056408772,5.808142489980444,6.2136075980886085,5.1149953094204985,6.2136075980886085,2.630088659632498])                                                                                                                                                                   |\n",
            "|1     |\"Heres a single, to add, to Kindle. Just read this 19th century story: \"\"The Ghost of Round Island\"\". Its about a man (French/American Indian) and his dog sled transporting a woman across the ice                                                            |[\"heres, a, single,, to, add,, to, kindle., just, read, this, 19th, century, story:, \"\"the, ghost, of, round, island\"\"., its, about, a, man, (french/american, indian), and, his, dog, sled, transporting, a, woman, across, the, ice]                                                                                |[\"heres, single,, add,, kindle., read, 19th, century, story:, \"\"the, ghost, round, island\"\"., man, (french/american, indian), dog, sled, transporting, woman, across, ice]                                              |(8400,[287,674,1350,2535,2569,2841,2881,2997,3441,4163,4184,4634,4764,5250,5370,5628,6158,6318,7345,7638,7972],[1.0,1.0,1.0,1.0,1.0,1.0,1.0,1.0,1.0,1.0,1.0,1.0,1.0,1.0,1.0,1.0,1.0,1.0,1.0,1.0,1.0])                 |(8400,[287,674,1350,2535,2569,2841,2881,2997,3441,4163,4184,4634,4764,5250,5370,5628,6158,6318,7345,7638,7972],[5.808142489980444,5.808142489980444,5.1149953094204985,6.2136075980886085,5.1149953094204985,6.2136075980886085,5.520460417528663,6.2136075980886085,6.2136075980886085,6.2136075980886085,5.808142489980444,5.808142489980444,5.520460417528663,2.224623551524334,5.808142489980444,6.2136075980886085,5.808142489980444,6.2136075980886085,5.808142489980444,4.9608446295932405,2.4524074823950457])                                            |\n",
            "|2     |If you tire of Non-Fiction.. Check out http://www.amazon.com/s/ref=nb_sb_noss?url=search-alias%3Daps&field-keywords=danielle+lee+zwissler+&x=0&y=0                                                                                                             |[if, you, tire, of, non-fiction.., check, out, http://www.amazon.com/s/ref=nb_sb_noss?url=search-alias%3daps&field-keywords=danielle+lee+zwissler+&x=0&y=0]                                                                                                                                                           |[tire, non-fiction.., check, http://www.amazon.com/s/ref=nb_sb_noss?url=search-alias%3daps&field-keywords=danielle+lee+zwissler+&x=0&y=0]                                                                               |(8400,[1749,2025,2701,7657],[1.0,1.0,1.0,1.0])                                                                                                                                                                        |(8400,[1749,2025,2701,7657],[6.2136075980886085,5.1149953094204985,4.508859505850183,5.808142489980444])                                                                                                                                                                                                                                                                                                                                                                                                                                                          |\n",
            "|3     |Ghost of Round Island is supposedly nonfiction.                                                                                                                                                                                                                |[ghost, of, round, island, is, supposedly, nonfiction.]                                                                                                                                                                                                                                                               |[ghost, round, island, supposedly, nonfiction.]                                                                                                                                                                         |(8400,[287,1476,1795,7345,8366],[1.0,1.0,1.0,1.0,1.0])                                                                                                                                                                |(8400,[287,1476,1795,7345,8366],[5.808142489980444,6.2136075980886085,5.520460417528663,5.808142489980444,6.2136075980886085])                                                                                                                                                                                                                                                                                                                                                                                                                                    |\n",
            "|4     |Why is Barnes and Nobles version of the Kindle so much more expensive than the Kindle?                                                                                                                                                                         |[why, is, barnes, and, nobles, version, of, the, kindle, so, much, more, expensive, than, the, kindle?]                                                                                                                                                                                                               |[barnes, nobles, version, kindle, much, expensive, kindle?]                                                                                                                                                             |(8400,[357,1130,4124,4253,4275,6280,6468],[1.0,1.0,1.0,1.0,1.0,1.0,1.0])                                                                                                                                              |(8400,[357,1130,4124,4253,4275,6280,6468],[1.1930219731391842,5.1149953094204985,3.1225651447302925,5.520460417528663,4.198704577546343,4.827313236968718,6.2136075980886085])                                                                                                                                                                                                                                                                                                                                                                                    |\n",
            "|5     |@Maria:  Do you mean the Nook?  Be careful, books you buy for the Kindle are for that piece of electronics, and vice versa.  I love my Kindle, there are people that swear by the Nook.  They like the color screen.Me?  I want an ereader that is a reader-- s|[@maria:, , do, you, mean, the, nook?, , be, careful,, books, you, buy, for, the, kindle, are, for, that, piece, of, electronics,, and, vice, versa., , i, love, my, kindle,, there, are, people, that, swear, by, the, nook., , they, like, the, color, screen.me?, , i, want, an, ereader, that, is, a, reader--, s]|[@maria:, , mean, nook?, , careful,, books, buy, kindle, piece, electronics,, vice, versa., , love, kindle,, people, swear, nook., , like, color, screen.me?, , want, ereader, reader--]                                |(8400,[183,357,954,1103,1312,2130,2240,2442,2671,3156,3372,4627,4632,5714,6080,6333,6425,6512,7014,7063,7309,7412,8339],[1.0,1.0,1.0,1.0,1.0,1.0,1.0,1.0,1.0,1.0,5.0,1.0,1.0,1.0,1.0,1.0,1.0,1.0,1.0,1.0,1.0,1.0,1.0])|(8400,[183,357,954,1103,1312,2130,2240,2442,2671,3156,3372,4627,4632,5714,6080,6333,6425,6512,7014,7063,7309,7412,8339],[4.604169685654508,1.1930219731391842,6.2136075980886085,4.709530201312334,3.269168618922168,2.687247073472447,1.1415636758637089,5.520460417528663,4.827313236968718,6.2136075980886085,7.0274828405191325,2.2062744128561373,4.508859505850183,5.808142489980444,3.7287009483006077,4.073541434592338,6.2136075980886085,4.709530201312334,6.2136075980886085,3.7287009483006077,5.520460417528663,5.808142489980444,3.145554662954991])|\n",
            "|6     |kindle is awesome! mines great                                                                                                                                                                                                                                 |[kindle, is, awesome!, mines, great]                                                                                                                                                                                                                                                                                  |[kindle, awesome!, mines, great]                                                                                                                                                                                        |(8400,[357,4350,5569,7247],[1.0,1.0,1.0,1.0])                                                                                                                                                                         |(8400,[357,4350,5569,7247],[1.1930219731391842,2.9364628650964315,5.1149953094204985,6.2136075980886085])                                                                                                                                                                                                                                                                                                                                                                                                                                                         |\n",
            "|7     |I love mine!!!!                                                                                                                                                                                                                                                |[i, love, mine!!!!]                                                                                                                                                                                                                                                                                                   |[love, mine!!!!]                                                                                                                                                                                                        |(8400,[2240,4481],[1.0,1.0])                                                                                                                                                                                          |(8400,[2240,4481],[1.1415636758637089,5.808142489980444])                                                                                                                                                                                                                                                                                                                                                                                                                                                                                                         |\n",
            "|8     |Meh. I think Singles are a bad idea. Big name authors already dominate the market by a huge factor. Now you are letting them compete on price point with indie authors (albeit giving less content for the money).                                             |[meh., i, think, singles, are, a, bad, idea., big, name, authors, already, dominate, the, market, by, a, huge, factor., now, you, are, letting, them, compete, on, price, point, with, indie, authors, (albeit, giving, less, content, for, the, money).]                                                             |[meh., think, singles, bad, idea., big, name, authors, already, dominate, market, huge, factor., letting, compete, price, point, indie, authors, (albeit, giving, less, content, money).]                               |(8400,[15,22,248,975,1222,1556,1627,2153,2198,2657,3610,3903,4016,4129,4238,4538,5158,5394,6240,7535,8216,8268,8395],[1.0,1.0,1.0,1.0,1.0,1.0,1.0,1.0,1.0,1.0,2.0,1.0,1.0,1.0,1.0,1.0,1.0,1.0,1.0,1.0,1.0,1.0,1.0])   |(8400,[15,22,248,975,1222,1556,1627,2153,2198,2657,3610,3903,4016,4129,4238,4538,5158,5394,6240,7535,8216,8268,8395],[4.827313236968718,4.9608446295932405,4.341805421187017,5.297316866214453,6.2136075980886085,5.1149953094204985,5.808142489980444,6.2136075980886085,5.808142489980444,6.2136075980886085,9.419060402624668,5.297316866214453,4.9608446295932405,6.2136075980886085,5.808142489980444,4.508859505850183,5.297316866214453,4.508859505850183,5.808142489980444,3.472767574163407,6.2136075980886085,5.808142489980444,4.508859505850183])     |\n",
            "|9     |My daugjhter loves hers!                                                                                                                                                                                                                                       |[my, daugjhter, loves, hers!]                                                                                                                                                                                                                                                                                         |[daugjhter, loves, hers!]                                                                                                                                                                                               |(8400,[1126,6486,7707],[1.0,1.0,1.0])                                                                                                                                                                                 |(8400,[1126,6486,7707],[5.808142489980444,5.520460417528663,6.2136075980886085])                                                                                                                                                                                                                                                                                                                                                                                                                                                                                  |\n",
            "|10    |I am not sure if i just got my update but now i dont have location numbers unless i press the menu button.  But i also dont have page numbers! Am i doing something wrong?                                                                                     |[i, am, not, sure, if, i, just, got, my, update, but, now, i, dont, have, location, numbers, unless, i, press, the, menu, button., , but, i, also, dont, have, page, numbers!, am, i, doing, something, wrong?]                                                                                                       |[sure, got, update, dont, location, numbers, unless, press, menu, button., , also, dont, page, numbers!, something, wrong?]                                                                                             |(8400,[634,1192,1590,1591,2531,2592,2621,3372,3630,4010,4398,4541,4777,5826,7227,8185],[1.0,1.0,1.0,1.0,1.0,1.0,1.0,1.0,1.0,1.0,1.0,1.0,2.0,1.0,1.0,1.0])                                                             |(8400,[634,1192,1590,1591,2531,2592,2621,3372,3630,4010,4398,4541,4777,5826,7227,8185],[6.2136075980886085,5.808142489980444,6.2136075980886085,5.520460417528663,5.297316866214453,3.5745502684733497,3.962315799482113,1.4054965681038265,5.1149953094204985,2.829217334742834,5.297316866214453,5.520460417528663,5.835541464168558,4.134166056408772,3.962315799482113,5.520460417528663])                                                                                                                                                                    |\n",
            "|11    |Got a Kindle for Xmas and I love it.   Never was much of a book reader, but this has been fun.  I am on my 5th book since Christmas!                                                                                                                           |[got, a, kindle, for, xmas, and, i, love, it., , , never, was, much, of, a, book, reader,, but, this, has, been, fun., , i, am, on, my, 5th, book, since, christmas!]                                                                                                                                                 |[got, kindle, xmas, love, it., , , never, much, book, reader,, fun., , 5th, book, since, christmas!]                                                                                                                    |(8400,[357,2029,2140,2240,2281,2294,2793,3372,3487,4010,4124,7005,7640,7706],[1.0,1.0,1.0,1.0,1.0,1.0,2.0,3.0,1.0,1.0,1.0,1.0,1.0,1.0])                                                                               |(8400,[357,2029,2140,2240,2281,2294,2793,3372,3487,4010,4124,7005,7640,7706],[1.1930219731391842,5.808142489980444,5.1149953094204985,1.1415636758637089,3.8622323409251305,4.9608446295932405,5.2053793708887675,4.2164897043114795,3.6486582406270713,2.829217334742834,3.1225651447302925,3.0355537677406628,5.520460417528663,5.297316866214453])                                                                                                                                                                                                             |\n",
            "|12    |I dont have the patience for kindle singles. If Im gonna read, I need at least 200 pages.                                                                                                                                                                      |[i, dont, have, the, patience, for, kindle, singles., if, im, gonna, read,, i, need, at, least, 200, pages.]                                                                                                                                                                                                          |[dont, patience, kindle, singles., im, gonna, read,, need, least, 200, pages.]                                                                                                                                          |(8400,[357,2023,2834,3213,3408,4563,4777,4860,5288,6937,7805],[1.0,1.0,1.0,1.0,1.0,1.0,1.0,1.0,1.0,1.0,1.0])                                                                                                          |(8400,[357,2023,2834,3213,3408,4563,4777,4860,5288,6937,7805],[1.1930219731391842,3.0781133821594584,5.520460417528663,5.520460417528663,5.520460417528663,6.2136075980886085,2.917770732084279,4.341805421187017,5.297316866214453,3.5745502684733497,6.2136075980886085])                                                                                                                                                                                                                                                                                       |\n",
            "|13    |Love the new singles ~ am reading Jodi Picoults right now while waiting till Tuesday for her new book to come out!                                                                                                                                             |[love, the, new, singles, ~, am, reading, jodi, picoults, right, now, while, waiting, till, tuesday, for, her, new, book, to, come, out!]                                                                                                                                                                             |[love, new, singles, ~, reading, jodi, picoults, right, waiting, till, tuesday, new, book, come, out!]                                                                                                                  |(8400,[18,2240,2344,2793,3385,4185,4990,5113,5158,5191,5564,6126,7146,7161],[1.0,1.0,1.0,1.0,2.0,1.0,1.0,1.0,1.0,1.0,1.0,1.0,1.0,1.0])                                                                                |(8400,[18,2240,2344,2793,3385,4185,4990,5113,5158,5191,5564,6126,7146,7161],[5.297316866214453,1.1415636758637089,5.808142489980444,2.6026896854443837,6.646471680384887,6.2136075980886085,4.267697449033295,5.808142489980444,5.297316866214453,4.267697449033295,4.341805421187017,2.6582595365991946,6.2136075980886085,5.520460417528663])                                                                                                                                                                                                                   |\n",
            "|14    |Not a fan of Kindle Singles.  They clog up the Kindle Book page and its tough to sort through full-legnth new releases because there are so, so many Singles there.                                                                                            |[not, a, fan, of, kindle, singles., , they, clog, up, the, kindle, book, page, and, its, tough, to, sort, through, full-legnth, new, releases, because, there, are, so,, so, many, singles, there.]                                                                                                                   |[fan, kindle, singles., , clog, kindle, book, page, tough, sort, full-legnth, new, releases, so,, many, singles, there.]                                                                                                |(8400,[357,2793,3134,3213,3372,3385,3588,4923,5158,5320,5404,5853,6209,6400,7227,7847],[2.0,1.0,1.0,1.0,1.0,1.0,1.0,1.0,1.0,1.0,1.0,1.0,1.0,1.0,1.0,1.0])                                                             |(8400,[357,2793,3134,3213,3372,3385,3588,4923,5158,5320,5404,5853,6209,6400,7227,7847],[2.3860439462783685,2.6026896854443837,5.297316866214453,5.520460417528663,1.4054965681038265,3.3232358401924436,3.5394589486620798,5.1149953094204985,5.297316866214453,5.297316866214453,6.2136075980886085,6.2136075980886085,6.2136075980886085,6.2136075980886085,3.962315799482113,5.808142489980444])                                                                                                                                                               |\n",
            "|15    |Best thing since sliced bread.                                                                                                                                                                                                                                 |[best, thing, since, sliced, bread.]                                                                                                                                                                                                                                                                                  |[best, thing, since, sliced, bread.]                                                                                                                                                                                    |(8400,[657,1563,3487,7645,8189],[1.0,1.0,1.0,1.0,1.0])                                                                                                                                                                |(8400,[657,1563,3487,7645,8189],[3.243193132518907,3.0355537677406628,3.6486582406270713,5.520460417528663,6.2136075980886085])                                                                                                                                                                                                                                                                                                                                                                                                                                   |\n",
            "|16    |we love our kindles......                                                                                                                                                                                                                                      |[we, love, our, kindles......]                                                                                                                                                                                                                                                                                        |[love, kindles......]                                                                                                                                                                                                   |(8400,[2240,6483],[1.0,1.0])                                                                                                                                                                                          |(8400,[2240,6483],[1.1415636758637089,5.808142489980444])                                                                                                                                                                                                                                                                                                                                                                                                                                                                                                         |\n",
            "|17    |can anybody tell me if the FREE chapters of TICK TOC by Patterson are a summary of each chapter or the real deal....my kindle jumps 5-10 % of read with each page I read and I have real big text...thank you!                                                 |[can, anybody, tell, me, if, the, free, chapters, of, tick, toc, by, patterson, are, a, summary, of, each, chapter, or, the, real, deal....my, kindle, jumps, 5-10, %, of, read, with, each, page, i, read, and, i, have, real, big, text...thank, you!]                                                              |[anybody, tell, free, chapters, tick, toc, patterson, summary, chapter, real, deal....my, kindle, jumps, 5-10, %, read, page, read, real, big, text...thank, you!]                                                      |(8400,[117,248,357,650,775,891,1213,2157,2591,3422,4328,5250,5463,6670,6950,7227,7473,7494,7609,8149],[1.0,1.0,1.0,1.0,1.0,2.0,1.0,1.0,1.0,1.0,1.0,2.0,1.0,1.0,1.0,1.0,1.0,1.0,1.0,1.0])                              |(8400,[117,248,357,650,775,891,1213,2157,2591,3422,4328,5250,5463,6670,6950,7227,7473,7494,7609,8149],[6.2136075980886085,4.341805421187017,1.1930219731391842,4.9608446295932405,6.2136075980886085,9.419060402624668,5.520460417528663,6.2136075980886085,6.2136075980886085,4.709530201312334,6.2136075980886085,4.449247103048668,5.297316866214453,6.2136075980886085,6.2136075980886085,3.962315799482113,2.8124102164264526,5.520460417528663,5.808142489980444,5.520460417528663])                                                                        |\n",
            "|18    |Love  my kindle, too!  Also enoyed the New York Times article...thought provoking as well kindle loving.                                                                                                                                                       |[love, , my, kindle,, too!, , also, enoyed, the, new, york, times, article...thought, provoking, as, well, kindle, loving.]                                                                                                                                                                                           |[love, , kindle,, too!, , also, enoyed, new, york, times, article...thought, provoking, well, kindle, loving.]                                                                                                          |(8400,[357,602,1960,2240,2592,3372,3385,3894,4154,4705,7392,7574,7757,8339],[1.0,1.0,1.0,1.0,1.0,2.0,1.0,1.0,1.0,1.0,1.0,1.0,1.0,1.0])                                                                                |(8400,[357,602,1960,2240,2592,3372,3385,3894,4154,4705,7392,7574,7757,8339],[1.1930219731391842,4.827313236968718,5.297316866214453,1.1415636758637089,3.5745502684733497,2.810993136207653,3.3232358401924436,6.2136075980886085,6.2136075980886085,4.508859505850183,4.198704577546343,6.2136075980886085,3.056607176938495,3.145554662954991])                                                                                                                                                                                                                 |\n",
            "|19    |Yeah once u get a kindle its hard to put it down sumtimes because there r so many books to choose from I luv mine as well                                                                                                                                      |[yeah, once, u, get, a, kindle, its, hard, to, put, it, down, sumtimes, because, there, r, so, many, books, to, choose, from, i, luv, mine, as, well]                                                                                                                                                                 |[yeah, u, get, kindle, hard, put, sumtimes, r, many, books, choose, luv, mine, well]                                                                                                                                    |(8400,[183,357,849,2162,3306,3588,4627,5271,5525,5783,7055,7757,7996,8226],[1.0,1.0,1.0,1.0,1.0,1.0,1.0,1.0,1.0,1.0,1.0,1.0,1.0,1.0])                                                                                 |(8400,[183,357,849,2162,3306,3588,4627,5271,5525,5783,7055,7757,7996,8226],[4.604169685654508,1.1930219731391842,5.520460417528663,5.297316866214453,5.297316866214453,3.5394589486620798,2.2062744128561373,3.8157123252902374,4.9608446295932405,6.2136075980886085,3.5394589486620798,3.056607176938495,4.508859505850183,2.630088659632498])                                                                                                                                                                                                                  |\n",
            "+------+---------------------------------------------------------------------------------------------------------------------------------------------------------------------------------------------------------------------------------------------------------------+----------------------------------------------------------------------------------------------------------------------------------------------------------------------------------------------------------------------------------------------------------------------------------------------------------------------+------------------------------------------------------------------------------------------------------------------------------------------------------------------------------------------------------------------------+----------------------------------------------------------------------------------------------------------------------------------------------------------------------------------------------------------------------+------------------------------------------------------------------------------------------------------------------------------------------------------------------------------------------------------------------------------------------------------------------------------------------------------------------------------------------------------------------------------------------------------------------------------------------------------------------------------------------------------------------------------------------------------------------+\n",
            "only showing top 20 rows\n",
            "\n"
          ]
        }
      ]
    }
  ]
}